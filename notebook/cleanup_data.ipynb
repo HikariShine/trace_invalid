{
 "cells": [
  {
   "cell_type": "code",
   "execution_count": 1,
   "id": "2ef75623",
   "metadata": {},
   "outputs": [
    {
     "data": {
      "text/plain": [
       "86556"
      ]
     },
     "execution_count": 1,
     "metadata": {},
     "output_type": "execute_result"
    }
   ],
   "source": [
    "data_file = open('../data/main_data_fixed.csv', 'r')\n",
    "data = data_file.read()\n",
    "data_file.close\n",
    "data = [line.split(',') for line in data.split('\\n')]\n",
    "data = data[:-1]\n",
    "\n",
    "# block = { invalid_txs: num,\n",
    "#             gas_wasted: num}\n",
    "main_data = {}\n",
    "\n",
    "for line in data:\n",
    "    blockNumber = int(line[0])\n",
    "    gasUsed = int(line[1])\n",
    "    gasWasted = int(line[2])\n",
    "    if blockNumber in main_data.keys():\n",
    "        main_data[blockNumber]['invalidTxs'] +=1\n",
    "        main_data[blockNumber]['gasWasted'] += gasWasted\n",
    "    else:\n",
    "        main_data[blockNumber] = {'gasUsed': gasUsed, \n",
    "                                  'invalidTxs': 1, \n",
    "                                  'gasWasted': gasWasted }\n",
    "\n",
    "len(main_data.keys())"
   ]
  },
  {
   "cell_type": "code",
   "execution_count": 2,
   "id": "cda36b09",
   "metadata": {},
   "outputs": [
    {
     "data": {
      "text/plain": [
       "117458"
      ]
     },
     "execution_count": 2,
     "metadata": {},
     "output_type": "execute_result"
    }
   ],
   "source": [
    "data_file = open('../data/invalid_trace.txt', 'r')\n",
    "data = data_file.read()\n",
    "data_file.close()\n",
    "data = data.split('\\n')\n",
    "\n",
    "for line in data:\n",
    "    start = line.find('InvalidAnalysis')\n",
    "    if start < 0:\n",
    "        continue\n",
    "        \n",
    "    # Find block number\n",
    "    bnIx = line.find('BlockNumber') + 12\n",
    "    blockNumber = int(line[bnIx:bnIx+8])\n",
    "    \n",
    "    # Find gasUsed\n",
    "    guIx = line.find('GasUsed') + 8\n",
    "    guEnd = guIx + line[guIx:].find(' ')\n",
    "    gasUsed = int(line[guIx:guEnd])\n",
    "    \n",
    "    # Find gasWasted\n",
    "    gwIx = line.find('GasWasted') + 10\n",
    "    gasWasted = int(line[gwIx:])\n",
    "    \n",
    "    if blockNumber in main_data.keys():\n",
    "        main_data[blockNumber]['invalidTxs'] +=1\n",
    "        main_data[blockNumber]['gasWasted'] += gasWasted\n",
    "    else:\n",
    "        main_data[blockNumber] = {'gasUsed': gasUsed, \n",
    "                                  'invalidTxs': 1, \n",
    "                                  'gasWasted': gasWasted }\n",
    "\n",
    "len(main_data.keys())"
   ]
  },
  {
   "cell_type": "code",
   "execution_count": 3,
   "id": "106d12d0",
   "metadata": {},
   "outputs": [
    {
     "name": "stdout",
     "output_type": "stream",
     "text": [
      "12001003 {'gasUsed': 12491719, 'invalidTxs': 1, 'gasWasted': 187446}\n",
      "13131749 {'gasUsed': 29984026, 'invalidTxs': 1, 'gasWasted': 30232}\n"
     ]
    }
   ],
   "source": [
    "print(list(main_data.keys())[0], main_data[list(main_data.keys())[0]])\n",
    "print(list(main_data.keys())[-1], main_data[list(main_data.keys())[-1]])"
   ]
  },
  {
   "cell_type": "code",
   "execution_count": 4,
   "id": "773733e3",
   "metadata": {},
   "outputs": [],
   "source": [
    "file_out = open('../data/main_data.csv', 'w')\n",
    "\n",
    "file_out.write('Block#,InvalidTxs,GasUsed,GasWasted\\n')\n",
    "for key in main_data.keys():\n",
    "    line = [str(key), str(main_data[key]['invalidTxs']), str(main_data[key]['gasUsed']), str(main_data[key]['gasWasted'])]\n",
    "    file_out.write(','.join(line) + '\\n')\n",
    "file_out.close()\n",
    "\n"
   ]
  },
  {
   "cell_type": "code",
   "execution_count": null,
   "id": "05fb620d",
   "metadata": {},
   "outputs": [],
   "source": []
  }
 ],
 "metadata": {
  "kernelspec": {
   "display_name": "Python 3",
   "language": "python",
   "name": "python3"
  },
  "language_info": {
   "codemirror_mode": {
    "name": "ipython",
    "version": 3
   },
   "file_extension": ".py",
   "mimetype": "text/x-python",
   "name": "python",
   "nbconvert_exporter": "python",
   "pygments_lexer": "ipython3",
   "version": "3.9.5"
  }
 },
 "nbformat": 4,
 "nbformat_minor": 5
}
