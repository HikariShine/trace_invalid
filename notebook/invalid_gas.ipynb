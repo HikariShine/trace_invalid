{
 "cells": [
  {
   "cell_type": "code",
   "execution_count": 1,
   "id": "ffd85e70",
   "metadata": {},
   "outputs": [],
   "source": [
    "import pandas as pd\n",
    "\n",
    "DATADIR = '../data/'\n",
    "FILENAME = 'main_data.csv'"
   ]
  },
  {
   "cell_type": "code",
   "execution_count": 2,
   "id": "004c6ef6",
   "metadata": {},
   "outputs": [
    {
     "data": {
      "text/html": [
       "<div>\n",
       "<style scoped>\n",
       "    .dataframe tbody tr th:only-of-type {\n",
       "        vertical-align: middle;\n",
       "    }\n",
       "\n",
       "    .dataframe tbody tr th {\n",
       "        vertical-align: top;\n",
       "    }\n",
       "\n",
       "    .dataframe thead th {\n",
       "        text-align: right;\n",
       "    }\n",
       "</style>\n",
       "<table border=\"1\" class=\"dataframe\">\n",
       "  <thead>\n",
       "    <tr style=\"text-align: right;\">\n",
       "      <th></th>\n",
       "      <th>Block#</th>\n",
       "      <th>GasUsed</th>\n",
       "      <th>GasUsedInvalid</th>\n",
       "      <th>TotalTxs</th>\n",
       "      <th>InvalidTxs</th>\n",
       "      <th>GasWasted</th>\n",
       "    </tr>\n",
       "  </thead>\n",
       "  <tbody>\n",
       "    <tr>\n",
       "      <th>0</th>\n",
       "      <td>9168942.0</td>\n",
       "      <td>9969353</td>\n",
       "      <td>60000</td>\n",
       "      <td>124</td>\n",
       "      <td>1</td>\n",
       "      <td>31935</td>\n",
       "    </tr>\n",
       "    <tr>\n",
       "      <th>1</th>\n",
       "      <td>8619480.0</td>\n",
       "      <td>9929575</td>\n",
       "      <td>76930</td>\n",
       "      <td>42</td>\n",
       "      <td>1</td>\n",
       "      <td>50997</td>\n",
       "    </tr>\n",
       "    <tr>\n",
       "      <th>2</th>\n",
       "      <td>8619485.0</td>\n",
       "      <td>9929001</td>\n",
       "      <td>491186</td>\n",
       "      <td>92</td>\n",
       "      <td>3</td>\n",
       "      <td>413387</td>\n",
       "    </tr>\n",
       "    <tr>\n",
       "      <th>3</th>\n",
       "      <td>8619491.0</td>\n",
       "      <td>9921438</td>\n",
       "      <td>204320</td>\n",
       "      <td>31</td>\n",
       "      <td>1</td>\n",
       "      <td>177095</td>\n",
       "    </tr>\n",
       "    <tr>\n",
       "      <th>4</th>\n",
       "      <td>8619514.0</td>\n",
       "      <td>9935118</td>\n",
       "      <td>36452</td>\n",
       "      <td>37</td>\n",
       "      <td>1</td>\n",
       "      <td>12577</td>\n",
       "    </tr>\n",
       "    <tr>\n",
       "      <th>...</th>\n",
       "      <td>...</td>\n",
       "      <td>...</td>\n",
       "      <td>...</td>\n",
       "      <td>...</td>\n",
       "      <td>...</td>\n",
       "      <td>...</td>\n",
       "    </tr>\n",
       "    <tr>\n",
       "      <th>27771</th>\n",
       "      <td>8673317.0</td>\n",
       "      <td>9966050</td>\n",
       "      <td>33000</td>\n",
       "      <td>173</td>\n",
       "      <td>1</td>\n",
       "      <td>7710</td>\n",
       "    </tr>\n",
       "    <tr>\n",
       "      <th>27772</th>\n",
       "      <td>8673439.0</td>\n",
       "      <td>1685791</td>\n",
       "      <td>36452</td>\n",
       "      <td>37</td>\n",
       "      <td>1</td>\n",
       "      <td>12577</td>\n",
       "    </tr>\n",
       "    <tr>\n",
       "      <th>27773</th>\n",
       "      <td>9168860.0</td>\n",
       "      <td>9947405</td>\n",
       "      <td>414256</td>\n",
       "      <td>140</td>\n",
       "      <td>2</td>\n",
       "      <td>368274</td>\n",
       "    </tr>\n",
       "    <tr>\n",
       "      <th>27774</th>\n",
       "      <td>9168861.0</td>\n",
       "      <td>9948935</td>\n",
       "      <td>4233220</td>\n",
       "      <td>170</td>\n",
       "      <td>1</td>\n",
       "      <td>66780</td>\n",
       "    </tr>\n",
       "    <tr>\n",
       "      <th>27775</th>\n",
       "      <td>8594239.0</td>\n",
       "      <td>9981217</td>\n",
       "      <td>150000</td>\n",
       "      <td>73</td>\n",
       "      <td>1</td>\n",
       "      <td>125430</td>\n",
       "    </tr>\n",
       "  </tbody>\n",
       "</table>\n",
       "<p>27776 rows × 6 columns</p>\n",
       "</div>"
      ],
      "text/plain": [
       "          Block#  GasUsed  GasUsedInvalid  TotalTxs  InvalidTxs  GasWasted\n",
       "0      9168942.0  9969353           60000       124           1      31935\n",
       "1      8619480.0  9929575           76930        42           1      50997\n",
       "2      8619485.0  9929001          491186        92           3     413387\n",
       "3      8619491.0  9921438          204320        31           1     177095\n",
       "4      8619514.0  9935118           36452        37           1      12577\n",
       "...          ...      ...             ...       ...         ...        ...\n",
       "27771  8673317.0  9966050           33000       173           1       7710\n",
       "27772  8673439.0  1685791           36452        37           1      12577\n",
       "27773  9168860.0  9947405          414256       140           2     368274\n",
       "27774  9168861.0  9948935         4233220       170           1      66780\n",
       "27775  8594239.0  9981217          150000        73           1     125430\n",
       "\n",
       "[27776 rows x 6 columns]"
      ]
     },
     "execution_count": 2,
     "metadata": {},
     "output_type": "execute_result"
    }
   ],
   "source": [
    "df = pd.read_csv(DATADIR + FILENAME)\n",
    "df"
   ]
  },
  {
   "cell_type": "code",
   "execution_count": 3,
   "id": "f89007f6",
   "metadata": {},
   "outputs": [
    {
     "name": "stderr",
     "output_type": "stream",
     "text": [
      "<ipython-input-3-bd8f0e9c3482>:2: SettingWithCopyWarning: \n",
      "A value is trying to be set on a copy of a slice from a DataFrame.\n",
      "Try using .loc[row_indexer,col_indexer] = value instead\n",
      "\n",
      "See the caveats in the documentation: https://pandas.pydata.org/pandas-docs/stable/user_guide/indexing.html#returning-a-view-versus-a-copy\n",
      "  df['WastePerc'] = (df['GasWasted'] / df['GasUsed']) * 100\n"
     ]
    }
   ],
   "source": [
    "df = df[df['InvalidTxs'] != 0]\n",
    "df['WastePerc'] = (df['GasWasted'] / df['GasUsed']) * 100"
   ]
  },
  {
   "cell_type": "code",
   "execution_count": 4,
   "id": "c0989a4d",
   "metadata": {},
   "outputs": [
    {
     "data": {
      "text/html": [
       "<div>\n",
       "<style scoped>\n",
       "    .dataframe tbody tr th:only-of-type {\n",
       "        vertical-align: middle;\n",
       "    }\n",
       "\n",
       "    .dataframe tbody tr th {\n",
       "        vertical-align: top;\n",
       "    }\n",
       "\n",
       "    .dataframe thead th {\n",
       "        text-align: right;\n",
       "    }\n",
       "</style>\n",
       "<table border=\"1\" class=\"dataframe\">\n",
       "  <thead>\n",
       "    <tr style=\"text-align: right;\">\n",
       "      <th></th>\n",
       "      <th>Block#</th>\n",
       "      <th>GasUsed</th>\n",
       "      <th>GasUsedInvalid</th>\n",
       "      <th>TotalTxs</th>\n",
       "      <th>InvalidTxs</th>\n",
       "      <th>GasWasted</th>\n",
       "      <th>WastePerc</th>\n",
       "    </tr>\n",
       "  </thead>\n",
       "  <tbody>\n",
       "    <tr>\n",
       "      <th>19743</th>\n",
       "      <td>8569290.0</td>\n",
       "      <td>8064324</td>\n",
       "      <td>891480</td>\n",
       "      <td>27</td>\n",
       "      <td>1</td>\n",
       "      <td>0</td>\n",
       "      <td>0.000000</td>\n",
       "    </tr>\n",
       "    <tr>\n",
       "      <th>20156</th>\n",
       "      <td>8569865.0</td>\n",
       "      <td>8023865</td>\n",
       "      <td>873304</td>\n",
       "      <td>124</td>\n",
       "      <td>1</td>\n",
       "      <td>2</td>\n",
       "      <td>0.000025</td>\n",
       "    </tr>\n",
       "    <tr>\n",
       "      <th>18075</th>\n",
       "      <td>8595325.0</td>\n",
       "      <td>9982142</td>\n",
       "      <td>31242</td>\n",
       "      <td>73</td>\n",
       "      <td>1</td>\n",
       "      <td>2</td>\n",
       "      <td>0.000020</td>\n",
       "    </tr>\n",
       "    <tr>\n",
       "      <th>19220</th>\n",
       "      <td>8568576.0</td>\n",
       "      <td>8016769</td>\n",
       "      <td>2564488</td>\n",
       "      <td>72</td>\n",
       "      <td>3</td>\n",
       "      <td>3</td>\n",
       "      <td>0.000037</td>\n",
       "    </tr>\n",
       "    <tr>\n",
       "      <th>17956</th>\n",
       "      <td>3989186.0</td>\n",
       "      <td>665333</td>\n",
       "      <td>8000</td>\n",
       "      <td>19</td>\n",
       "      <td>1</td>\n",
       "      <td>4</td>\n",
       "      <td>0.000601</td>\n",
       "    </tr>\n",
       "    <tr>\n",
       "      <th>...</th>\n",
       "      <td>...</td>\n",
       "      <td>...</td>\n",
       "      <td>...</td>\n",
       "      <td>...</td>\n",
       "      <td>...</td>\n",
       "      <td>...</td>\n",
       "      <td>...</td>\n",
       "    </tr>\n",
       "    <tr>\n",
       "      <th>3872</th>\n",
       "      <td>8661636.0</td>\n",
       "      <td>9993885</td>\n",
       "      <td>9490724</td>\n",
       "      <td>14</td>\n",
       "      <td>1</td>\n",
       "      <td>9467392</td>\n",
       "      <td>94.731849</td>\n",
       "    </tr>\n",
       "    <tr>\n",
       "      <th>25803</th>\n",
       "      <td>9167991.0</td>\n",
       "      <td>9957560</td>\n",
       "      <td>9493729</td>\n",
       "      <td>5</td>\n",
       "      <td>1</td>\n",
       "      <td>9469283</td>\n",
       "      <td>95.096419</td>\n",
       "    </tr>\n",
       "    <tr>\n",
       "      <th>4321</th>\n",
       "      <td>8667972.0</td>\n",
       "      <td>9743768</td>\n",
       "      <td>9495461</td>\n",
       "      <td>3</td>\n",
       "      <td>1</td>\n",
       "      <td>9472065</td>\n",
       "      <td>97.211520</td>\n",
       "    </tr>\n",
       "    <tr>\n",
       "      <th>3807</th>\n",
       "      <td>8660907.0</td>\n",
       "      <td>9956372</td>\n",
       "      <td>9500000</td>\n",
       "      <td>14</td>\n",
       "      <td>1</td>\n",
       "      <td>9476269</td>\n",
       "      <td>95.177932</td>\n",
       "    </tr>\n",
       "    <tr>\n",
       "      <th>13100</th>\n",
       "      <td>8601779.0</td>\n",
       "      <td>9696867</td>\n",
       "      <td>9500000</td>\n",
       "      <td>9</td>\n",
       "      <td>1</td>\n",
       "      <td>9476668</td>\n",
       "      <td>97.729174</td>\n",
       "    </tr>\n",
       "  </tbody>\n",
       "</table>\n",
       "<p>10524 rows × 7 columns</p>\n",
       "</div>"
      ],
      "text/plain": [
       "          Block#  GasUsed  GasUsedInvalid  TotalTxs  InvalidTxs  GasWasted  \\\n",
       "19743  8569290.0  8064324          891480        27           1          0   \n",
       "20156  8569865.0  8023865          873304       124           1          2   \n",
       "18075  8595325.0  9982142           31242        73           1          2   \n",
       "19220  8568576.0  8016769         2564488        72           3          3   \n",
       "17956  3989186.0   665333            8000        19           1          4   \n",
       "...          ...      ...             ...       ...         ...        ...   \n",
       "3872   8661636.0  9993885         9490724        14           1    9467392   \n",
       "25803  9167991.0  9957560         9493729         5           1    9469283   \n",
       "4321   8667972.0  9743768         9495461         3           1    9472065   \n",
       "3807   8660907.0  9956372         9500000        14           1    9476269   \n",
       "13100  8601779.0  9696867         9500000         9           1    9476668   \n",
       "\n",
       "       WastePerc  \n",
       "19743   0.000000  \n",
       "20156   0.000025  \n",
       "18075   0.000020  \n",
       "19220   0.000037  \n",
       "17956   0.000601  \n",
       "...          ...  \n",
       "3872   94.731849  \n",
       "25803  95.096419  \n",
       "4321   97.211520  \n",
       "3807   95.177932  \n",
       "13100  97.729174  \n",
       "\n",
       "[10524 rows x 7 columns]"
      ]
     },
     "execution_count": 4,
     "metadata": {},
     "output_type": "execute_result"
    }
   ],
   "source": [
    "df.sort_values(by=['GasWasted'])"
   ]
  },
  {
   "cell_type": "code",
   "execution_count": 5,
   "id": "312e025d",
   "metadata": {},
   "outputs": [
    {
     "data": {
      "text/plain": [
       "9561223.187191183"
      ]
     },
     "execution_count": 5,
     "metadata": {},
     "output_type": "execute_result"
    }
   ],
   "source": [
    "df['GasUsed'].mean()\n"
   ]
  },
  {
   "cell_type": "code",
   "execution_count": 6,
   "id": "9d3a5151",
   "metadata": {},
   "outputs": [
    {
     "data": {
      "text/plain": [
       "252599.59625617636"
      ]
     },
     "execution_count": 6,
     "metadata": {},
     "output_type": "execute_result"
    }
   ],
   "source": [
    "df['GasWasted'].mean()\n"
   ]
  },
  {
   "cell_type": "code",
   "execution_count": 7,
   "id": "d2f9a277",
   "metadata": {},
   "outputs": [
    {
     "data": {
      "text/plain": [
       "2.750443755227139"
      ]
     },
     "execution_count": 7,
     "metadata": {},
     "output_type": "execute_result"
    }
   ],
   "source": [
    "df['WastePerc'].mean()"
   ]
  },
  {
   "cell_type": "code",
   "execution_count": 8,
   "id": "7545aa56",
   "metadata": {},
   "outputs": [
    {
     "data": {
      "text/plain": [
       "array([[<AxesSubplot:title={'center':'WastePerc'}>]], dtype=object)"
      ]
     },
     "execution_count": 8,
     "metadata": {},
     "output_type": "execute_result"
    },
    {
     "data": {
      "image/png": "[encoded data removed]",
      "text/plain": [
       "<Figure size 432x288 with 1 Axes>"
      ]
     },
     "metadata": {
      "needs_background": "light"
     },
     "output_type": "display_data"
    }
   ],
   "source": [
    "df.hist(column='WastePerc')"
   ]
  },
  {
   "cell_type": "code",
   "execution_count": 9,
   "id": "daa612d8",
   "metadata": {},
   "outputs": [
    {
     "name": "stderr",
     "output_type": "stream",
     "text": [
      "<ipython-input-9-306537b140b1>:3: SettingWithCopyWarning: \n",
      "A value is trying to be set on a copy of a slice from a DataFrame.\n",
      "Try using .loc[row_indexer,col_indexer] = value instead\n",
      "\n",
      "See the caveats in the documentation: https://pandas.pydata.org/pandas-docs/stable/user_guide/indexing.html#returning-a-view-versus-a-copy\n",
      "  df['GasUsed_M_GasWasted'] = df['GasUsed'] - df['GasWasted']\n"
     ]
    },
    {
     "data": {
      "text/plain": [
       "<AxesSubplot:ylabel='Gas Wasted by INVALID OPcode'>"
      ]
     },
     "execution_count": 9,
     "metadata": {},
     "output_type": "execute_result"
    },
    {
     "data": {
      "image/png": "[encoded data removed]",
      "text/plain": [
       "<Figure size 1152x1152 with 1 Axes>"
      ]
     },
     "metadata": {},
     "output_type": "display_data"
    }
   ],
   "source": [
    "def autopct(pct):\n",
    "    return ('%.2f' % pct) + \"%\" if pct > 0 else ''\n",
    "df['GasUsed_M_GasWasted'] = df['GasUsed'] - df['GasWasted']\n",
    "df[['GasUsed_M_GasWasted', 'GasWasted']].sum().plot(kind='pie', label='Gas Wasted by INVALID OPcode', figsize=(16,16), autopct=autopct)"
   ]
  },
  {
   "cell_type": "code",
   "execution_count": null,
   "id": "aa0d9bb9",
   "metadata": {},
   "outputs": [],
   "source": []
  }
 ],
 "metadata": {
  "kernelspec": {
   "display_name": "Python 3",
   "language": "python",
   "name": "python3"
  },
  "language_info": {
   "codemirror_mode": {
    "name": "ipython",
    "version": 3
   },
   "file_extension": ".py",
   "mimetype": "text/x-python",
   "name": "python",
   "nbconvert_exporter": "python",
   "pygments_lexer": "ipython3",
   "version": "3.9.5"
  }
 },
 "nbformat": 4,
 "nbformat_minor": 5
}
