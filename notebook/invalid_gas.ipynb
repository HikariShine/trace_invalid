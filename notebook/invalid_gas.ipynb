{
 "cells": [
  {
   "cell_type": "code",
   "execution_count": 1,
   "id": "ffd85e70",
   "metadata": {},
   "outputs": [],
   "source": [
    "import pandas as pd\n",
    "\n",
    "DATADIR = '../data/'\n",
    "FILENAME = 'main_data.csv'"
   ]
  },
  {
   "cell_type": "code",
   "execution_count": 2,
   "id": "004c6ef6",
   "metadata": {},
   "outputs": [
    {
     "data": {
      "text/html": [
       "<div>\n",
       "<style scoped>\n",
       "    .dataframe tbody tr th:only-of-type {\n",
       "        vertical-align: middle;\n",
       "    }\n",
       "\n",
       "    .dataframe tbody tr th {\n",
       "        vertical-align: top;\n",
       "    }\n",
       "\n",
       "    .dataframe thead th {\n",
       "        text-align: right;\n",
       "    }\n",
       "</style>\n",
       "<table border=\"1\" class=\"dataframe\">\n",
       "  <thead>\n",
       "    <tr style=\"text-align: right;\">\n",
       "      <th></th>\n",
       "      <th>Block#</th>\n",
       "      <th>InvalidTxs</th>\n",
       "      <th>GasUsed</th>\n",
       "      <th>GasWasted</th>\n",
       "    </tr>\n",
       "  </thead>\n",
       "  <tbody>\n",
       "    <tr>\n",
       "      <th>0</th>\n",
       "      <td>12001003</td>\n",
       "      <td>1</td>\n",
       "      <td>12491719</td>\n",
       "      <td>187446</td>\n",
       "    </tr>\n",
       "    <tr>\n",
       "      <th>1</th>\n",
       "      <td>12001078</td>\n",
       "      <td>1</td>\n",
       "      <td>12468309</td>\n",
       "      <td>257378</td>\n",
       "    </tr>\n",
       "    <tr>\n",
       "      <th>2</th>\n",
       "      <td>12001089</td>\n",
       "      <td>1</td>\n",
       "      <td>12471808</td>\n",
       "      <td>257378</td>\n",
       "    </tr>\n",
       "    <tr>\n",
       "      <th>3</th>\n",
       "      <td>12001100</td>\n",
       "      <td>1</td>\n",
       "      <td>12493638</td>\n",
       "      <td>412944</td>\n",
       "    </tr>\n",
       "    <tr>\n",
       "      <th>4</th>\n",
       "      <td>12001156</td>\n",
       "      <td>1</td>\n",
       "      <td>12481895</td>\n",
       "      <td>28272</td>\n",
       "    </tr>\n",
       "    <tr>\n",
       "      <th>...</th>\n",
       "      <td>...</td>\n",
       "      <td>...</td>\n",
       "      <td>...</td>\n",
       "      <td>...</td>\n",
       "    </tr>\n",
       "    <tr>\n",
       "      <th>117453</th>\n",
       "      <td>13131590</td>\n",
       "      <td>1</td>\n",
       "      <td>30053760</td>\n",
       "      <td>240111</td>\n",
       "    </tr>\n",
       "    <tr>\n",
       "      <th>117454</th>\n",
       "      <td>13131597</td>\n",
       "      <td>3</td>\n",
       "      <td>22751128</td>\n",
       "      <td>328623</td>\n",
       "    </tr>\n",
       "    <tr>\n",
       "      <th>117455</th>\n",
       "      <td>13131618</td>\n",
       "      <td>1</td>\n",
       "      <td>8357102</td>\n",
       "      <td>33292</td>\n",
       "    </tr>\n",
       "    <tr>\n",
       "      <th>117456</th>\n",
       "      <td>13131622</td>\n",
       "      <td>1</td>\n",
       "      <td>29847921</td>\n",
       "      <td>329134</td>\n",
       "    </tr>\n",
       "    <tr>\n",
       "      <th>117457</th>\n",
       "      <td>13131749</td>\n",
       "      <td>1</td>\n",
       "      <td>29984026</td>\n",
       "      <td>30232</td>\n",
       "    </tr>\n",
       "  </tbody>\n",
       "</table>\n",
       "<p>117458 rows × 4 columns</p>\n",
       "</div>"
      ],
      "text/plain": [
       "          Block#  InvalidTxs   GasUsed  GasWasted\n",
       "0       12001003           1  12491719     187446\n",
       "1       12001078           1  12468309     257378\n",
       "2       12001089           1  12471808     257378\n",
       "3       12001100           1  12493638     412944\n",
       "4       12001156           1  12481895      28272\n",
       "...          ...         ...       ...        ...\n",
       "117453  13131590           1  30053760     240111\n",
       "117454  13131597           3  22751128     328623\n",
       "117455  13131618           1   8357102      33292\n",
       "117456  13131622           1  29847921     329134\n",
       "117457  13131749           1  29984026      30232\n",
       "\n",
       "[117458 rows x 4 columns]"
      ]
     },
     "execution_count": 2,
     "metadata": {},
     "output_type": "execute_result"
    }
   ],
   "source": [
    "df = pd.read_csv(DATADIR + FILENAME)\n",
    "df"
   ]
  },
  {
   "cell_type": "code",
   "execution_count": 3,
   "id": "f89007f6",
   "metadata": {},
   "outputs": [],
   "source": [
    "df['WastePerc'] = (df['GasWasted'] / df['GasUsed']) * 100"
   ]
  },
  {
   "cell_type": "code",
   "execution_count": 4,
   "id": "c0989a4d",
   "metadata": {},
   "outputs": [
    {
     "data": {
      "text/html": [
       "<div>\n",
       "<style scoped>\n",
       "    .dataframe tbody tr th:only-of-type {\n",
       "        vertical-align: middle;\n",
       "    }\n",
       "\n",
       "    .dataframe tbody tr th {\n",
       "        vertical-align: top;\n",
       "    }\n",
       "\n",
       "    .dataframe thead th {\n",
       "        text-align: right;\n",
       "    }\n",
       "</style>\n",
       "<table border=\"1\" class=\"dataframe\">\n",
       "  <thead>\n",
       "    <tr style=\"text-align: right;\">\n",
       "      <th></th>\n",
       "      <th>Block#</th>\n",
       "      <th>InvalidTxs</th>\n",
       "      <th>GasUsed</th>\n",
       "      <th>GasWasted</th>\n",
       "      <th>WastePerc</th>\n",
       "    </tr>\n",
       "  </thead>\n",
       "  <tbody>\n",
       "    <tr>\n",
       "      <th>101973</th>\n",
       "      <td>12868978</td>\n",
       "      <td>1</td>\n",
       "      <td>14986007</td>\n",
       "      <td>0</td>\n",
       "      <td>0.000000</td>\n",
       "    </tr>\n",
       "    <tr>\n",
       "      <th>109469</th>\n",
       "      <td>12992669</td>\n",
       "      <td>1</td>\n",
       "      <td>19757808</td>\n",
       "      <td>0</td>\n",
       "      <td>0.000000</td>\n",
       "    </tr>\n",
       "    <tr>\n",
       "      <th>26672</th>\n",
       "      <td>12216839</td>\n",
       "      <td>1</td>\n",
       "      <td>12516409</td>\n",
       "      <td>0</td>\n",
       "      <td>0.000000</td>\n",
       "    </tr>\n",
       "    <tr>\n",
       "      <th>73825</th>\n",
       "      <td>12593820</td>\n",
       "      <td>1</td>\n",
       "      <td>14951621</td>\n",
       "      <td>0</td>\n",
       "      <td>0.000000</td>\n",
       "    </tr>\n",
       "    <tr>\n",
       "      <th>28856</th>\n",
       "      <td>12237561</td>\n",
       "      <td>1</td>\n",
       "      <td>12460653</td>\n",
       "      <td>1</td>\n",
       "      <td>0.000008</td>\n",
       "    </tr>\n",
       "    <tr>\n",
       "      <th>...</th>\n",
       "      <td>...</td>\n",
       "      <td>...</td>\n",
       "      <td>...</td>\n",
       "      <td>...</td>\n",
       "      <td>...</td>\n",
       "    </tr>\n",
       "    <tr>\n",
       "      <th>112847</th>\n",
       "      <td>13054098</td>\n",
       "      <td>1</td>\n",
       "      <td>29998505</td>\n",
       "      <td>27933869</td>\n",
       "      <td>93.117537</td>\n",
       "    </tr>\n",
       "    <tr>\n",
       "      <th>111360</th>\n",
       "      <td>13026507</td>\n",
       "      <td>1</td>\n",
       "      <td>29851158</td>\n",
       "      <td>27937955</td>\n",
       "      <td>93.590858</td>\n",
       "    </tr>\n",
       "    <tr>\n",
       "      <th>112780</th>\n",
       "      <td>13053079</td>\n",
       "      <td>1</td>\n",
       "      <td>29923388</td>\n",
       "      <td>27984448</td>\n",
       "      <td>93.520319</td>\n",
       "    </tr>\n",
       "    <tr>\n",
       "      <th>117178</th>\n",
       "      <td>13124313</td>\n",
       "      <td>1</td>\n",
       "      <td>29998780</td>\n",
       "      <td>28464111</td>\n",
       "      <td>94.884229</td>\n",
       "    </tr>\n",
       "    <tr>\n",
       "      <th>116882</th>\n",
       "      <td>13116397</td>\n",
       "      <td>1</td>\n",
       "      <td>30018602</td>\n",
       "      <td>28519784</td>\n",
       "      <td>95.007036</td>\n",
       "    </tr>\n",
       "  </tbody>\n",
       "</table>\n",
       "<p>117458 rows × 5 columns</p>\n",
       "</div>"
      ],
      "text/plain": [
       "          Block#  InvalidTxs   GasUsed  GasWasted  WastePerc\n",
       "101973  12868978           1  14986007          0   0.000000\n",
       "109469  12992669           1  19757808          0   0.000000\n",
       "26672   12216839           1  12516409          0   0.000000\n",
       "73825   12593820           1  14951621          0   0.000000\n",
       "28856   12237561           1  12460653          1   0.000008\n",
       "...          ...         ...       ...        ...        ...\n",
       "112847  13054098           1  29998505   27933869  93.117537\n",
       "111360  13026507           1  29851158   27937955  93.590858\n",
       "112780  13053079           1  29923388   27984448  93.520319\n",
       "117178  13124313           1  29998780   28464111  94.884229\n",
       "116882  13116397           1  30018602   28519784  95.007036\n",
       "\n",
       "[117458 rows x 5 columns]"
      ]
     },
     "execution_count": 4,
     "metadata": {},
     "output_type": "execute_result"
    }
   ],
   "source": [
    "df.sort_values(by=['GasWasted'])"
   ]
  },
  {
   "cell_type": "code",
   "execution_count": 5,
   "id": "312e025d",
   "metadata": {},
   "outputs": [
    {
     "data": {
      "text/plain": [
       "14760118.380450884"
      ]
     },
     "execution_count": 5,
     "metadata": {},
     "output_type": "execute_result"
    }
   ],
   "source": [
    "df['GasUsed'].mean()\n"
   ]
  },
  {
   "cell_type": "code",
   "execution_count": 6,
   "id": "9d3a5151",
   "metadata": {},
   "outputs": [
    {
     "data": {
      "text/plain": [
       "251523.45810417342"
      ]
     },
     "execution_count": 6,
     "metadata": {},
     "output_type": "execute_result"
    }
   ],
   "source": [
    "df['GasWasted'].mean()\n"
   ]
  },
  {
   "cell_type": "code",
   "execution_count": 7,
   "id": "d2f9a277",
   "metadata": {},
   "outputs": [
    {
     "data": {
      "text/plain": [
       "1.7999203000185717"
      ]
     },
     "execution_count": 7,
     "metadata": {},
     "output_type": "execute_result"
    }
   ],
   "source": [
    "df['WastePerc'].mean()"
   ]
  },
  {
   "cell_type": "code",
   "execution_count": 8,
   "id": "3cfb7c3d",
   "metadata": {},
   "outputs": [
    {
     "data": {
      "text/plain": [
       "count    117458.000000\n",
       "mean          1.799920\n",
       "std           4.788409\n",
       "min           0.000000\n",
       "25%           0.295164\n",
       "50%           0.611801\n",
       "75%           1.449899\n",
       "max          96.646942\n",
       "Name: WastePerc, dtype: float64"
      ]
     },
     "execution_count": 8,
     "metadata": {},
     "output_type": "execute_result"
    }
   ],
   "source": [
    "df['WastePerc'].describe()"
   ]
  },
  {
   "cell_type": "code",
   "execution_count": 9,
   "id": "d0507a86",
   "metadata": {},
   "outputs": [
    {
     "data": {
      "text/html": [
       "<div>\n",
       "<style scoped>\n",
       "    .dataframe tbody tr th:only-of-type {\n",
       "        vertical-align: middle;\n",
       "    }\n",
       "\n",
       "    .dataframe tbody tr th {\n",
       "        vertical-align: top;\n",
       "    }\n",
       "\n",
       "    .dataframe thead th {\n",
       "        text-align: right;\n",
       "    }\n",
       "</style>\n",
       "<table border=\"1\" class=\"dataframe\">\n",
       "  <thead>\n",
       "    <tr style=\"text-align: right;\">\n",
       "      <th></th>\n",
       "      <th>Block#</th>\n",
       "      <th>InvalidTxs</th>\n",
       "      <th>GasUsed</th>\n",
       "      <th>GasWasted</th>\n",
       "      <th>WastePerc</th>\n",
       "    </tr>\n",
       "  </thead>\n",
       "  <tbody>\n",
       "    <tr>\n",
       "      <th>102851</th>\n",
       "      <td>12882718</td>\n",
       "      <td>1</td>\n",
       "      <td>14310670</td>\n",
       "      <td>286232</td>\n",
       "      <td>2.000130</td>\n",
       "    </tr>\n",
       "    <tr>\n",
       "      <th>109476</th>\n",
       "      <td>12992896</td>\n",
       "      <td>1</td>\n",
       "      <td>26956457</td>\n",
       "      <td>539180</td>\n",
       "      <td>2.000189</td>\n",
       "    </tr>\n",
       "    <tr>\n",
       "      <th>57999</th>\n",
       "      <td>12456967</td>\n",
       "      <td>3</td>\n",
       "      <td>15013527</td>\n",
       "      <td>300319</td>\n",
       "      <td>2.000323</td>\n",
       "    </tr>\n",
       "    <tr>\n",
       "      <th>10778</th>\n",
       "      <td>12086209</td>\n",
       "      <td>2</td>\n",
       "      <td>12475185</td>\n",
       "      <td>249562</td>\n",
       "      <td>2.000467</td>\n",
       "    </tr>\n",
       "    <tr>\n",
       "      <th>49151</th>\n",
       "      <td>12376262</td>\n",
       "      <td>2</td>\n",
       "      <td>14993893</td>\n",
       "      <td>299950</td>\n",
       "      <td>2.000481</td>\n",
       "    </tr>\n",
       "    <tr>\n",
       "      <th>...</th>\n",
       "      <td>...</td>\n",
       "      <td>...</td>\n",
       "      <td>...</td>\n",
       "      <td>...</td>\n",
       "      <td>...</td>\n",
       "    </tr>\n",
       "    <tr>\n",
       "      <th>96379</th>\n",
       "      <td>12805675</td>\n",
       "      <td>1</td>\n",
       "      <td>14937737</td>\n",
       "      <td>14207831</td>\n",
       "      <td>95.113678</td>\n",
       "    </tr>\n",
       "    <tr>\n",
       "      <th>50481</th>\n",
       "      <td>12389243</td>\n",
       "      <td>2</td>\n",
       "      <td>14939719</td>\n",
       "      <td>14251807</td>\n",
       "      <td>95.395415</td>\n",
       "    </tr>\n",
       "    <tr>\n",
       "      <th>78513</th>\n",
       "      <td>12625718</td>\n",
       "      <td>1</td>\n",
       "      <td>14856831</td>\n",
       "      <td>14209581</td>\n",
       "      <td>95.643418</td>\n",
       "    </tr>\n",
       "    <tr>\n",
       "      <th>64491</th>\n",
       "      <td>12512474</td>\n",
       "      <td>2</td>\n",
       "      <td>14987972</td>\n",
       "      <td>14353451</td>\n",
       "      <td>95.766465</td>\n",
       "    </tr>\n",
       "    <tr>\n",
       "      <th>46077</th>\n",
       "      <td>12354427</td>\n",
       "      <td>1</td>\n",
       "      <td>14499213</td>\n",
       "      <td>14013046</td>\n",
       "      <td>96.646942</td>\n",
       "    </tr>\n",
       "  </tbody>\n",
       "</table>\n",
       "<p>20986 rows × 5 columns</p>\n",
       "</div>"
      ],
      "text/plain": [
       "          Block#  InvalidTxs   GasUsed  GasWasted  WastePerc\n",
       "102851  12882718           1  14310670     286232   2.000130\n",
       "109476  12992896           1  26956457     539180   2.000189\n",
       "57999   12456967           3  15013527     300319   2.000323\n",
       "10778   12086209           2  12475185     249562   2.000467\n",
       "49151   12376262           2  14993893     299950   2.000481\n",
       "...          ...         ...       ...        ...        ...\n",
       "96379   12805675           1  14937737   14207831  95.113678\n",
       "50481   12389243           2  14939719   14251807  95.395415\n",
       "78513   12625718           1  14856831   14209581  95.643418\n",
       "64491   12512474           2  14987972   14353451  95.766465\n",
       "46077   12354427           1  14499213   14013046  96.646942\n",
       "\n",
       "[20986 rows x 5 columns]"
      ]
     },
     "execution_count": 9,
     "metadata": {},
     "output_type": "execute_result"
    }
   ],
   "source": [
    "df[df['WastePerc'] > 2].sort_values(by=['WastePerc'])"
   ]
  },
  {
   "cell_type": "code",
   "execution_count": 10,
   "id": "7545aa56",
   "metadata": {},
   "outputs": [
    {
     "data": {
      "text/plain": [
       "array([[<AxesSubplot:title={'center':'WastePerc'}>]], dtype=object)"
      ]
     },
     "execution_count": 10,
     "metadata": {},
     "output_type": "execute_result"
    },
    {
     "data": {
      "image/png": "[encoded data removed]",
      "text/plain": [
       "<Figure size 432x288 with 1 Axes>"
      ]
     },
     "metadata": {
      "needs_background": "light"
     },
     "output_type": "display_data"
    }
   ],
   "source": [
    "df.hist(column='WastePerc')"
   ]
  },
  {
   "cell_type": "code",
   "execution_count": 11,
   "id": "daa612d8",
   "metadata": {},
   "outputs": [
    {
     "data": {
      "text/plain": [
       "<AxesSubplot:ylabel='Gas Wasted by INVALID OPcode'>"
      ]
     },
     "execution_count": 11,
     "metadata": {},
     "output_type": "execute_result"
    },
    {
     "data": {
      "image/png": "[encoded data removed]",
      "text/plain": [
       "<Figure size 1152x1152 with 1 Axes>"
      ]
     },
     "metadata": {},
     "output_type": "display_data"
    }
   ],
   "source": [
    "def autopct(pct):\n",
    "    return ('%.2f' % pct) + \"%\" if pct > 0 else ''\n",
    "df['GasUsed_M_GasWasted'] = df['GasUsed'] - df['GasWasted']\n",
    "df[['GasUsed_M_GasWasted', 'GasWasted']].sum().plot(kind='pie', label='Gas Wasted by INVALID OPcode', figsize=(16,16), autopct=autopct)"
   ]
  },
  {
   "cell_type": "code",
   "execution_count": null,
   "id": "aa0d9bb9",
   "metadata": {},
   "outputs": [],
   "source": []
  }
 ],
 "metadata": {
  "kernelspec": {
   "display_name": "Python 3",
   "language": "python",
   "name": "python3"
  },
  "language_info": {
   "codemirror_mode": {
    "name": "ipython",
    "version": 3
   },
   "file_extension": ".py",
   "mimetype": "text/x-python",
   "name": "python",
   "nbconvert_exporter": "python",
   "pygments_lexer": "ipython3",
   "version": "3.9.5"
  }
 },
 "nbformat": 4,
 "nbformat_minor": 5
}
